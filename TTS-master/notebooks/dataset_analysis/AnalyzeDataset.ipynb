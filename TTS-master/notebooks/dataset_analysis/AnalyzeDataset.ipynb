{
 "cells": [
  {
   "cell_type": "code",
   "execution_count": null,
   "metadata": {
    "Collapsed": "false"
   },
   "outputs": [],
   "source": [
    "TTS_PATH = \"/home/erogol/projects/\""
   ]
  },
  {
   "cell_type": "code",
   "execution_count": 2,
   "metadata": {
    "Collapsed": "false"
   },
   "outputs": [],
   "source": [
    "import os\n",
    "import sys\n",
    "# # set this if TTS is not installed globally\n",
    "import glob\n",
    "import librosa\n",
    "import numpy as np\n",
    "import pandas as pd\n",
    "from scipy.stats import norm\n",
    "from tqdm import tqdm_notebook as tqdm\n",
    "from multiprocessing import Pool\n",
    "from matplotlib import pylab as plt\n",
    "from collections import Counter\n",
    "from TTS.tts.datasets.preprocess import *\n",
    "%matplotlib inline"
   ]
  },
  {
   "cell_type": "code",
   "execution_count": 11,
   "metadata": {
    "Collapsed": "false"
   },
   "outputs": [],
   "source": [
    "DATA_PATH = \"/home/Ciro/Desktop/ItalianMoziillaTTS/TTS-master/TTS/tts/datasets/output_dataset_it_adhoc/sansone/\"\n",
    "META_DATA = \"metadata_train.csv\"\n",
    "NUM_PROC = 8"
   ]
  },
  {
   "cell_type": "code",
   "execution_count": 12,
   "metadata": {
    "Collapsed": "false"
   },
   "outputs": [
    {
     "name": "stdout",
     "output_type": "stream",
     "text": [
      " > Number of audio files: 304\n"
     ]
    }
   ],
   "source": [
    "# use your own preprocessor at this stage - TTS/datasets/proprocess.py\n",
    "items = ljspeech(DATA_PATH, META_DATA)\n",
    "print(\" > Number of audio files: {}\".format(len(items)))"
   ]
  },
  {
   "cell_type": "code",
   "execution_count": 13,
   "metadata": {
    "Collapsed": "false"
   },
   "outputs": [],
   "source": [
    "# check wavs if exist\n",
    "wav_files = []\n",
    "for item in items:\n",
    "    wav_file = item[1].strip()\n",
    "    wav_files.append(wav_file)\n",
    "    if not os.path.exists(wav_file):\n",
    "        print(waf_path)"
   ]
  },
  {
   "cell_type": "code",
   "execution_count": 14,
   "metadata": {
    "Collapsed": "false"
   },
   "outputs": [
    {
     "name": "stdout",
     "output_type": "stream",
     "text": [
      "[]\n"
     ]
    }
   ],
   "source": [
    "# show duplicate items\n",
    "c = Counter(wav_files)\n",
    "print([item for item, count in c.items() if count > 1])"
   ]
  },
  {
   "cell_type": "code",
   "execution_count": 15,
   "metadata": {
    "Collapsed": "false"
   },
   "outputs": [
    {
     "name": "stderr",
     "output_type": "stream",
     "text": [
      "100%|██████████| 304/304 [00:00<00:00, 2216.18it/s]\n"
     ]
    }
   ],
   "source": [
    "def load_item(item):\n",
    "    file_name = item[1].strip()\n",
    "    text = item[0].strip()\n",
    "    audio = librosa.load(file_name, sr=None)\n",
    "    sr = audio[1]\n",
    "    audio = audio[0]\n",
    "    audio_len = len(audio) / sr\n",
    "    text_len = len(text)\n",
    "    return file_name, text, text_len, audio, audio_len\n",
    "\n",
    "# This will take a while depending on size of dataset\n",
    "if NUM_PROC == 1:\n",
    "    data = []\n",
    "    for m in tqdm(items):\n",
    "        data += [load_item(m)]\n",
    "else:\n",
    "    with Pool(8) as p:\n",
    "        data = list(tqdm(p.imap(load_item, items), total=len(items)))"
   ]
  },
  {
   "cell_type": "code",
   "execution_count": 16,
   "metadata": {
    "Collapsed": "false"
   },
   "outputs": [
    {
     "name": "stderr",
     "output_type": "stream",
     "text": [
      "100%|██████████| 304/304 [00:00<00:00, 159762.99it/s]"
     ]
    },
    {
     "name": "stdout",
     "output_type": "stream",
     "text": [
      " > Number of words: 1703\n"
     ]
    },
    {
     "name": "stderr",
     "output_type": "stream",
     "text": [
      "\n"
     ]
    }
   ],
   "source": [
    "# count words in the dataset\n",
    "w_count = Counter()\n",
    "for item in tqdm(data):\n",
    "    text = item[1].lower().strip()\n",
    "    for word in text.split():\n",
    "        w_count[word] += 1\n",
    "print(\" > Number of words: {}\".format(len(w_count)))"
   ]
  },
  {
   "cell_type": "code",
   "execution_count": 17,
   "metadata": {
    "Collapsed": "false"
   },
   "outputs": [
    {
     "name": "stderr",
     "output_type": "stream",
     "text": [
      "100%|██████████| 304/304 [00:00<00:00, 610957.55it/s]\n"
     ]
    }
   ],
   "source": [
    "text_vs_durs = {}  # text length vs audio duration\n",
    "text_len_counter = Counter()  # number of sentences with the keyed length\n",
    "for item in tqdm(data):\n",
    "    text = item[1].lower().strip()\n",
    "    text_len = len(text)\n",
    "    text_len_counter[text_len] += 1\n",
    "    audio_len = item[-1]\n",
    "    try:\n",
    "        text_vs_durs[text_len] += [audio_len]\n",
    "    except:\n",
    "        text_vs_durs[text_len] = [audio_len]"
   ]
  },
  {
   "cell_type": "code",
   "execution_count": 18,
   "metadata": {
    "Collapsed": "false"
   },
   "outputs": [],
   "source": [
    "# text_len vs avg_audio_len, median_audio_len, std_audio_len\n",
    "text_vs_avg = {}\n",
    "text_vs_median = {}\n",
    "text_vs_std = {}\n",
    "for key, durs in text_vs_durs.items():\n",
    "    text_vs_avg[key] = np.mean(durs)\n",
    "    text_vs_median[key] = np.median(durs)\n",
    "    text_vs_std[key] = np.std(durs)"
   ]
  },
  {
   "cell_type": "markdown",
   "metadata": {
    "Collapsed": "false"
   },
   "source": [
    "### Avg audio length per char"
   ]
  },
  {
   "cell_type": "code",
   "execution_count": 19,
   "metadata": {
    "Collapsed": "false"
   },
   "outputs": [
    {
     "name": "stdout",
     "output_type": "stream",
     "text": [
      "('/home/Ciro/Desktop/ItalianMoziillaTTS/TTS-master/TTS/tts/datasets/output_dataset_it_adhoc/sansone/wavs/Registrazione_Ad_Hoc_16.wav', 'Bernardo di Mompolier, Sire.', 28, array([-0.00021362, -0.00024414, -0.00024414, ...,  0.01919556,\n",
      "        0.01382446,  0.00579834], dtype=float32), 1.9619954648526077)\n",
      "('/home/Ciro/Desktop/ItalianMoziillaTTS/TTS-master/TTS/tts/datasets/output_dataset_it_adhoc/sansone/wavs/Registrazione_Ad_Hoc_39.wav', \"L'elmo era vuoto.\", 17, array([ 0.00021362,  0.00033569,  0.00027466, ..., -0.0229187 ,\n",
      "       -0.02185059, -0.01986694], dtype=float32), 1.2109750566893425)\n",
      "('/home/Ciro/Desktop/ItalianMoziillaTTS/TTS-master/TTS/tts/datasets/output_dataset_it_adhoc/sansone/wavs/Registrazione_Ad_Hoc_43.wav', 'Eh già, eh già, ben detto.', 26, array([-3.0517578e-05, -3.0517578e-05, -9.1552734e-05, ...,\n",
      "       -1.7700195e-03, -5.8288574e-03, -1.0498047e-02], dtype=float32), 1.0909750566893424)\n",
      "('/home/Ciro/Desktop/ItalianMoziillaTTS/TTS-master/TTS/tts/datasets/output_dataset_it_adhoc/sansone/wavs/Registrazione_Ad_Hoc_46.wav', 'Agilulfo era il serrafila.', 26, array([ 0.00082397,  0.00027466, -0.00030518, ...,  0.00369263,\n",
      "        0.0043335 ,  0.00482178], dtype=float32), 1.7819954648526077)\n",
      "('/home/Ciro/Desktop/ItalianMoziillaTTS/TTS-master/TTS/tts/datasets/output_dataset_it_adhoc/sansone/wavs/Registrazione_Ad_Hoc_62.wav', 'Ma non nascondevano il loro malcontento.', 40, array([-0.00491333, -0.00537109, -0.0057373 , ...,  0.00259399,\n",
      "        0.00283813,  0.00299072], dtype=float32), 1.9300226757369614)\n",
      "('/home/Ciro/Desktop/ItalianMoziillaTTS/TTS-master/TTS/tts/datasets/output_dataset_it_adhoc/sansone/wavs/Registrazione2_8.wav', 'Non sono padre.', 15, array([-0.00888062, -0.00915527, -0.00930786, ..., -0.00262451,\n",
      "       -0.00292969, -0.00338745], dtype=float32), 0.84)\n",
      "('/home/Ciro/Desktop/ItalianMoziillaTTS/TTS-master/TTS/tts/datasets/output_dataset_it_adhoc/sansone/wavs/Registrazione2_10.wav', 'Non è così per me.', 18, array([ 0.00036621,  0.00238037,  0.00238037, ..., -0.00494385,\n",
      "       -0.0045166 , -0.00372314], dtype=float32), 0.86)\n",
      "('/home/Ciro/Desktop/ItalianMoziillaTTS/TTS-master/TTS/tts/datasets/output_dataset_it_adhoc/sansone/wavs/Registrazione2_11.wav', 'Niente prolungamenti.', 21, array([-1.5258789e-04, -9.1552734e-05,  1.2207031e-04, ...,\n",
      "       -2.4108887e-03, -2.4719238e-03, -2.6550293e-03], dtype=float32), 1.2700226757369615)\n",
      "('/home/Ciro/Desktop/ItalianMoziillaTTS/TTS-master/TTS/tts/datasets/output_dataset_it_adhoc/sansone/wavs/Registrazione2_16.wav', \"C'è in noi la sua sapienza?\", 27, array([-1.3122559e-03, -2.4719238e-03, -5.4321289e-03, ...,\n",
      "       -2.1362305e-03, -1.1291504e-03,  6.1035156e-05], dtype=float32), 1.3)\n",
      "('/home/Ciro/Desktop/ItalianMoziillaTTS/TTS-master/TTS/tts/datasets/output_dataset_it_adhoc/sansone/wavs/Registrazione2_41.wav', 'Se li tiene così.', 17, array([ 0.0022583 ,  0.00250244,  0.00262451, ..., -0.00601196,\n",
      "       -0.00622559, -0.00622559], dtype=float32), 1.1499773242630384)\n",
      "('/home/Ciro/Desktop/ItalianMoziillaTTS/TTS-master/TTS/tts/datasets/output_dataset_it_adhoc/sansone/wavs/Registrazione2_56.wav', 'Mi è stato riferito il gesto.', 29, array([-0.00274658, -0.00259399, -0.00280762, ..., -0.0012207 ,\n",
      "        0.00079346,  0.00344849], dtype=float32), 1.2)\n",
      "('/home/Ciro/Desktop/ItalianMoziillaTTS/TTS-master/TTS/tts/datasets/output_dataset_it_adhoc/sansone/wavs/Registrazione2_66.wav', 'Si farebbe prima coi piccioni viaggiatori.', 42, array([ 0.00213623,  0.00100708,  0.0012207 , ..., -0.00271606,\n",
      "       -0.00305176, -0.0032959 ], dtype=float32), 1.86)\n",
      "('/home/Ciro/Desktop/ItalianMoziillaTTS/TTS-master/TTS/tts/datasets/output_dataset_it_adhoc/sansone/wavs/Registrazione2_72.wav', 'Non era sufficiente.', 20, array([-0.00082397, -0.00091553, -0.00057983, ..., -0.06970215,\n",
      "       -0.0703125 , -0.06771851], dtype=float32), 0.5100226757369615)\n",
      "('/home/Ciro/Desktop/ItalianMoziillaTTS/TTS-master/TTS/tts/datasets/output_dataset_it_adhoc/sansone/wavs/Registrazione2_91.wav', \"L'edificio non era stato danneggiato.\", 37, array([ 3.0517578e-05, -2.4414062e-04, -3.9672852e-04, ...,\n",
      "        7.5683594e-03,  7.4462891e-03,  7.6599121e-03], dtype=float32), 1.68)\n",
      "('/home/Ciro/Desktop/ItalianMoziillaTTS/TTS-master/TTS/tts/datasets/output_dataset_it_adhoc/sansone/wavs/Registrazione2_96.wav', 'È questione di nasi.', 20, array([ 0.00366211,  0.0050354 ,  0.00689697, ..., -0.02099609,\n",
      "       -0.0199585 , -0.02023315], dtype=float32), 1.14)\n",
      "('/home/Ciro/Desktop/ItalianMoziillaTTS/TTS-master/TTS/tts/datasets/output_dataset_it_adhoc/sansone/wavs/Registrazione3_2.wav', 'Ma è tutto in regola.', 21, array([0.00143433, 0.00149536, 0.00119019, ..., 0.00515747, 0.00534058,\n",
      "       0.00253296], dtype=float32), 0.6300226757369615)\n",
      "('/home/Ciro/Desktop/ItalianMoziillaTTS/TTS-master/TTS/tts/datasets/output_dataset_it_adhoc/sansone/wavs/Registrazione3_5.wav', 'Come sarebbe che è falsa?', 25, array([ 0.02685547,  0.01742554,  0.00726318, ..., -0.00558472,\n",
      "       -0.00570679, -0.00588989], dtype=float32), 1.98)\n",
      "('/home/Ciro/Desktop/ItalianMoziillaTTS/TTS-master/TTS/tts/datasets/output_dataset_it_adhoc/sansone/wavs/Registrazione3_6.wav', 'Ci stanno le crepe nelle scale.', 31, array([-0.00457764, -0.00512695, -0.00091553, ...,  0.00320435,\n",
      "        0.00115967, -0.00061035], dtype=float32), 1.3499773242630386)\n",
      "('/home/Ciro/Desktop/ItalianMoziillaTTS/TTS-master/TTS/tts/datasets/output_dataset_it_adhoc/sansone/wavs/Registrazione3_7.wav', \"C'erano anche prima del terremoto.\", 34, array([ 0.00473022,  0.00289917,  0.00256348, ..., -0.00140381,\n",
      "       -0.00115967, -0.00082397], dtype=float32), 1.86)\n",
      "('/home/Ciro/Desktop/ItalianMoziillaTTS/TTS-master/TTS/tts/datasets/output_dataset_it_adhoc/sansone/wavs/Registrazione3_11.wav', \"Teniamo l'astenuto?.\", 20, array([ 0.00109863,  0.00241089,  0.00222778, ..., -0.00408936,\n",
      "       -0.00415039, -0.00402832], dtype=float32), 1.1)\n",
      "('/home/Ciro/Desktop/ItalianMoziillaTTS/TTS-master/TTS/tts/datasets/output_dataset_it_adhoc/sansone/wavs/Registrazione3_12.wav', \"Tenete l'astenuto.\", 18, array([-1.2207031e-03,  3.0517578e-05,  1.2207031e-04, ...,\n",
      "       -1.5563965e-03, -1.4648438e-03, -1.4343262e-03], dtype=float32), 1.04)\n",
      "('/home/Ciro/Desktop/ItalianMoziillaTTS/TTS-master/TTS/tts/datasets/output_dataset_it_adhoc/sansone/wavs/Registrazione3_39.wav', 'È mio padre.', 12, array([-0.00183105, -0.00460815, -0.00274658, ..., -0.00378418,\n",
      "       -0.00366211, -0.00350952], dtype=float32), 0.94)\n",
      "('/home/Ciro/Desktop/ItalianMoziillaTTS/TTS-master/TTS/tts/datasets/output_dataset_it_adhoc/sansone/wavs/Registrazione3_53.wav', 'Come si prende il fuoco?', 24, array([-0.00015259,  0.00015259,  0.00067139, ..., -0.00112915,\n",
      "       -0.0007019 , -0.00027466], dtype=float32), 1.2899773242630386)\n",
      "('/home/Ciro/Desktop/ItalianMoziillaTTS/TTS-master/TTS/tts/datasets/output_dataset_it_adhoc/sansone/wavs/Registrazione3_63.wav', 'Adesso Isacco sa.', 17, array([ 1.2207031e-04, -9.1552734e-05,  3.0517578e-05, ...,\n",
      "        9.5520020e-03,  8.3923340e-03,  6.9885254e-03], dtype=float32), 1.0100226757369615)\n",
      "('/home/Ciro/Desktop/ItalianMoziillaTTS/TTS-master/TTS/tts/datasets/output_dataset_it_adhoc/sansone/wavs/Registrazione3_84.wav', 'Non nei piedi, sul cuore.', 25, array([-0.00415039, -0.00476074, -0.00549316, ..., -0.00836182,\n",
      "       -0.00854492, -0.00827026], dtype=float32), 1.62)\n",
      "('/home/Ciro/Desktop/ItalianMoziillaTTS/TTS-master/TTS/tts/datasets/output_dataset_it_adhoc/sansone/wavs/Registrazione3_92.wav', 'Le distanze profonde avvicinano.', 32, array([ 0.00100708,  0.00137329,  0.00289917, ..., -0.00271606,\n",
      "       -0.00296021, -0.00311279], dtype=float32), 1.6)\n",
      "('/home/Ciro/Desktop/ItalianMoziillaTTS/TTS-master/TTS/tts/datasets/output_dataset_it_adhoc/sansone/wavs/Registrazione3_93.wav', 'Strane creature siamo.', 22, array([ 0.00036621,  0.00427246,  0.00540161, ..., -0.0352478 ,\n",
      "       -0.0463562 , -0.05175781], dtype=float32), 0.9499773242630386)\n",
      "('/home/Ciro/Desktop/ItalianMoziillaTTS/TTS-master/TTS/tts/datasets/output_dataset_it_adhoc/sansone/wavs/Registrazione3_94.wav', 'Tanto rigirate sottosopra.', 26, array([ 0.00619507,  0.00363159,  0.00106812, ..., -0.00643921,\n",
      "       -0.00689697, -0.00756836], dtype=float32), 1.8899773242630384)\n",
      "('/home/Ciro/Desktop/ItalianMoziillaTTS/TTS-master/TTS/tts/datasets/output_dataset_it_adhoc/sansone/wavs/Registrazione3_96.wav', 'Dipinge immagini.', 17, array([ 0.00100708,  0.00131226,  0.0015564 , ..., -0.00189209,\n",
      "       -0.0015564 , -0.00131226], dtype=float32), 1.1299773242630387)\n",
      "('/home/Ciro/Desktop/ItalianMoziillaTTS/TTS-master/TTS/tts/datasets/output_dataset_it_adhoc/sansone/wavs/Registrazione5_0.wav', 'Prefazione alla prima edizione.', 31, array([-0.00036621, -0.00057983, -0.00088501, ..., -0.00259399,\n",
      "       -0.00222778, -0.00198364], dtype=float32), 1.4299773242630385)\n",
      "('/home/Ciro/Desktop/ItalianMoziillaTTS/TTS-master/TTS/tts/datasets/output_dataset_it_adhoc/sansone/wavs/Registrazione5_16.wav', 'Spero che non abbiate timore di tuffarvi con me.', 48, array([ 0.00088501, -0.00241089, -0.00274658, ...,  0.00094604,\n",
      "        0.00073242,  0.00067139], dtype=float32), 1.7899773242630386)\n",
      "('/home/Ciro/Desktop/ItalianMoziillaTTS/TTS-master/TTS/tts/datasets/output_dataset_it_adhoc/sansone/wavs/Registrazione5_27.wav', 'Qualcuno suggerisce Java o Scala.', 33, array([ 0.00115967,  0.00109863,  0.0010376 , ..., -0.00033569,\n",
      "        0.        ,  0.00039673], dtype=float32), 1.6899773242630385)\n",
      "('/home/Ciro/Desktop/ItalianMoziillaTTS/TTS-master/TTS/tts/datasets/output_dataset_it_adhoc/sansone/wavs/Registrazione5_28.wav', 'La scelta ovvia è Python.', 25, array([-0.00668335, -0.00738525, -0.00750732, ..., -0.00408936,\n",
      "       -0.00445557, -0.00482178], dtype=float32), 0.9499773242630386)\n",
      "('/home/Ciro/Desktop/ItalianMoziillaTTS/TTS-master/TTS/tts/datasets/output_dataset_it_adhoc/sansone/wavs/Registrazione5_38.wav', \"L'ascesa inarrestabile dei dati.\", 32, array([0.00024414, 0.00085449, 0.00091553, ..., 0.01965332, 0.02139282,\n",
      "       0.02178955], dtype=float32), 1.4100226757369614)\n",
      "('/home/Ciro/Desktop/ItalianMoziillaTTS/TTS-master/TTS/tts/datasets/output_dataset_it_adhoc/sansone/wavs/Registrazione5_46.wav', 'Cosa significa data science?', 28, array([ 1.6174316e-03,  7.9345703e-04, -3.0517578e-05, ...,\n",
      "       -3.7536621e-03, -3.7841797e-03, -3.5400391e-03], dtype=float32), 0.68)\n",
      "('/home/Ciro/Desktop/ItalianMoziillaTTS/TTS-master/TTS/tts/datasets/output_dataset_it_adhoc/sansone/wavs/Registrazione5_47.wav', 'Non ho detto che era una buona battuta.', 39, array([-0.00250244, -0.00219727, -0.00183105, ..., -0.00067139,\n",
      "       -0.00134277, -0.00183105], dtype=float32), 1.3899773242630384)\n"
     ]
    }
   ],
   "source": [
    "for item in data:\n",
    "    if item[-1] < 2:\n",
    "        print(item)"
   ]
  },
  {
   "cell_type": "code",
   "execution_count": 20,
   "metadata": {
    "Collapsed": "false"
   },
   "outputs": [],
   "source": [
    "sec_per_chars = []\n",
    "for item in data:\n",
    "    text = item[1]\n",
    "    dur = item[-1]\n",
    "    sec_per_char = dur / len(text)\n",
    "    sec_per_chars.append(sec_per_char)\n",
    "# sec_per_char /= len(data)\n",
    "# print(sec_per_char)"
   ]
  },
  {
   "cell_type": "code",
   "execution_count": 21,
   "metadata": {
    "Collapsed": "false"
   },
   "outputs": [
    {
     "name": "stdout",
     "output_type": "stream",
     "text": [
      "0.06078965541519348\n",
      "0.012203528090458082\n"
     ]
    }
   ],
   "source": [
    "mean = np.mean(sec_per_chars)\n",
    "std = np.std(sec_per_chars)\n",
    "print(mean)\n",
    "print(std)"
   ]
  },
  {
   "cell_type": "code",
   "execution_count": 22,
   "metadata": {
    "Collapsed": "false"
   },
   "outputs": [],
   "source": [
    "dist = norm(mean, std)\n",
    "\n",
    "# find irregular instances long or short voice durations\n",
    "for item in data:\n",
    "    text = item[1]\n",
    "    dur = item[-1]\n",
    "    sec_per_char = dur / len(text)\n",
    "    pdf =norm.pdf(sec_per_char)\n",
    "    if pdf < 0.39:\n",
    "        print(item)"
   ]
  },
  {
   "cell_type": "markdown",
   "metadata": {
    "Collapsed": "false"
   },
   "source": [
    "### Plot Dataset Statistics"
   ]
  },
  {
   "cell_type": "code",
   "execution_count": 23,
   "metadata": {
    "Collapsed": "false"
   },
   "outputs": [
    {
     "data": {
      "text/plain": [
       "<matplotlib.collections.PathCollection at 0x7fe54fb3eca0>"
      ]
     },
     "execution_count": 23,
     "metadata": {},
     "output_type": "execute_result"
    },
    {
     "data": {
      "image/png": "[encoded data removed]",
      "text/plain": [
       "<Figure size 432x288 with 1 Axes>"
      ]
     },
     "metadata": {
      "needs_background": "light"
     },
     "output_type": "display_data"
    }
   ],
   "source": [
    "plt.title(\"text length vs mean audio duration\")\n",
    "plt.scatter(list(text_vs_avg.keys()), list(text_vs_avg.values()))"
   ]
  },
  {
   "cell_type": "code",
   "execution_count": 24,
   "metadata": {
    "Collapsed": "false"
   },
   "outputs": [
    {
     "data": {
      "text/plain": [
       "<matplotlib.collections.PathCollection at 0x7fe54d9d9a00>"
      ]
     },
     "execution_count": 24,
     "metadata": {},
     "output_type": "execute_result"
    },
    {
     "data": {
      "image/png": "[encoded data removed]",
      "text/plain": [
       "<Figure size 432x288 with 1 Axes>"
      ]
     },
     "metadata": {
      "needs_background": "light"
     },
     "output_type": "display_data"
    }
   ],
   "source": [
    "plt.title(\"text length vs median audio duration\")\n",
    "plt.scatter(list(text_vs_median.keys()), list(text_vs_median.values()))"
   ]
  },
  {
   "cell_type": "code",
   "execution_count": 25,
   "metadata": {
    "Collapsed": "false"
   },
   "outputs": [
    {
     "data": {
      "text/plain": [
       "<matplotlib.collections.PathCollection at 0x7fe54d911d90>"
      ]
     },
     "execution_count": 25,
     "metadata": {},
     "output_type": "execute_result"
    },
    {
     "data": {
      "image/png": "[encoded data removed]",
      "text/plain": [
       "<Figure size 432x288 with 1 Axes>"
      ]
     },
     "metadata": {
      "needs_background": "light"
     },
     "output_type": "display_data"
    }
   ],
   "source": [
    "plt.title(\"text length vs STD\")\n",
    "plt.scatter(list(text_vs_std.keys()), list(text_vs_std.values()))"
   ]
  },
  {
   "cell_type": "code",
   "execution_count": 26,
   "metadata": {
    "Collapsed": "false"
   },
   "outputs": [
    {
     "data": {
      "text/plain": [
       "<matplotlib.collections.PathCollection at 0x7fe54d88a220>"
      ]
     },
     "execution_count": 26,
     "metadata": {},
     "output_type": "execute_result"
    },
    {
     "data": {
      "image/png": "[encoded data removed]",
      "text/plain": [
       "<Figure size 432x288 with 1 Axes>"
      ]
     },
     "metadata": {
      "needs_background": "light"
     },
     "output_type": "display_data"
    }
   ],
   "source": [
    "plt.title(\"text length vs # instances\")\n",
    "plt.scatter(list(text_len_counter.keys()), list(text_len_counter.values()))"
   ]
  },
  {
   "cell_type": "markdown",
   "metadata": {
    "Collapsed": "false"
   },
   "source": [
    "### Check words frequencies"
   ]
  },
  {
   "cell_type": "code",
   "execution_count": 27,
   "metadata": {
    "Collapsed": "false"
   },
   "outputs": [],
   "source": [
    "w_count_df = pd.DataFrame.from_dict(w_count, orient='index')\n",
    "w_count_df.sort_values(0, ascending=False, inplace=True)"
   ]
  },
  {
   "cell_type": "code",
   "execution_count": 28,
   "metadata": {
    "Collapsed": "false",
    "scrolled": true
   },
   "outputs": [
    {
     "data": {
      "text/html": [
       "<div>\n",
       "<style scoped>\n",
       "    .dataframe tbody tr th:only-of-type {\n",
       "        vertical-align: middle;\n",
       "    }\n",
       "\n",
       "    .dataframe tbody tr th {\n",
       "        vertical-align: top;\n",
       "    }\n",
       "\n",
       "    .dataframe thead th {\n",
       "        text-align: right;\n",
       "    }\n",
       "</style>\n",
       "<table border=\"1\" class=\"dataframe\">\n",
       "  <thead>\n",
       "    <tr style=\"text-align: right;\">\n",
       "      <th></th>\n",
       "      <th>0</th>\n",
       "    </tr>\n",
       "  </thead>\n",
       "  <tbody>\n",
       "    <tr>\n",
       "      <th>di</th>\n",
       "      <td>157</td>\n",
       "    </tr>\n",
       "    <tr>\n",
       "      <th>che</th>\n",
       "      <td>77</td>\n",
       "    </tr>\n",
       "    <tr>\n",
       "      <th>non</th>\n",
       "      <td>75</td>\n",
       "    </tr>\n",
       "    <tr>\n",
       "      <th>il</th>\n",
       "      <td>74</td>\n",
       "    </tr>\n",
       "    <tr>\n",
       "      <th>la</th>\n",
       "      <td>74</td>\n",
       "    </tr>\n",
       "    <tr>\n",
       "      <th>...</th>\n",
       "      <td>...</td>\n",
       "    </tr>\n",
       "    <tr>\n",
       "      <th>attutite.</th>\n",
       "      <td>1</td>\n",
       "    </tr>\n",
       "    <tr>\n",
       "      <th>gridate</th>\n",
       "      <td>1</td>\n",
       "    </tr>\n",
       "    <tr>\n",
       "      <th>rimprovero,</th>\n",
       "      <td>1</td>\n",
       "    </tr>\n",
       "    <tr>\n",
       "      <th>voci</th>\n",
       "      <td>1</td>\n",
       "    </tr>\n",
       "    <tr>\n",
       "      <th>organizzati.</th>\n",
       "      <td>1</td>\n",
       "    </tr>\n",
       "  </tbody>\n",
       "</table>\n",
       "<p>1703 rows × 1 columns</p>\n",
       "</div>"
      ],
      "text/plain": [
       "                0\n",
       "di            157\n",
       "che            77\n",
       "non            75\n",
       "il             74\n",
       "la             74\n",
       "...           ...\n",
       "attutite.       1\n",
       "gridate         1\n",
       "rimprovero,     1\n",
       "voci            1\n",
       "organizzati.    1\n",
       "\n",
       "[1703 rows x 1 columns]"
      ]
     },
     "execution_count": 28,
     "metadata": {},
     "output_type": "execute_result"
    }
   ],
   "source": [
    "w_count_df"
   ]
  },
  {
   "cell_type": "code",
   "execution_count": 29,
   "metadata": {
    "Collapsed": "false"
   },
   "outputs": [
    {
     "ename": "KeyError",
     "evalue": "'minute'",
     "output_type": "error",
     "traceback": [
      "\u001b[0;31m---------------------------------------------------------------------------\u001b[0m",
      "\u001b[0;31mKeyError\u001b[0m                                  Traceback (most recent call last)",
      "\u001b[0;32m<ipython-input-29-da394302a740>\u001b[0m in \u001b[0;36m<module>\u001b[0;34m\u001b[0m\n\u001b[1;32m      1\u001b[0m \u001b[0;31m# check a certain word\u001b[0m\u001b[0;34m\u001b[0m\u001b[0;34m\u001b[0m\u001b[0;34m\u001b[0m\u001b[0m\n\u001b[0;32m----> 2\u001b[0;31m \u001b[0mw_count_df\u001b[0m\u001b[0;34m.\u001b[0m\u001b[0mat\u001b[0m\u001b[0;34m[\u001b[0m\u001b[0;34m'minute'\u001b[0m\u001b[0;34m,\u001b[0m \u001b[0;36m0\u001b[0m\u001b[0;34m]\u001b[0m\u001b[0;34m\u001b[0m\u001b[0;34m\u001b[0m\u001b[0m\n\u001b[0m",
      "\u001b[0;32m/anaconda/envs/py38_default/lib/python3.8/site-packages/pandas/core/indexing.py\u001b[0m in \u001b[0;36m__getitem__\u001b[0;34m(self, key)\u001b[0m\n\u001b[1;32m   2273\u001b[0m             \u001b[0;32mreturn\u001b[0m \u001b[0mself\u001b[0m\u001b[0;34m.\u001b[0m\u001b[0mobj\u001b[0m\u001b[0;34m.\u001b[0m\u001b[0mloc\u001b[0m\u001b[0;34m[\u001b[0m\u001b[0mkey\u001b[0m\u001b[0;34m]\u001b[0m\u001b[0;34m\u001b[0m\u001b[0;34m\u001b[0m\u001b[0m\n\u001b[1;32m   2274\u001b[0m \u001b[0;34m\u001b[0m\u001b[0m\n\u001b[0;32m-> 2275\u001b[0;31m         \u001b[0;32mreturn\u001b[0m \u001b[0msuper\u001b[0m\u001b[0;34m(\u001b[0m\u001b[0;34m)\u001b[0m\u001b[0;34m.\u001b[0m\u001b[0m__getitem__\u001b[0m\u001b[0;34m(\u001b[0m\u001b[0mkey\u001b[0m\u001b[0;34m)\u001b[0m\u001b[0;34m\u001b[0m\u001b[0;34m\u001b[0m\u001b[0m\n\u001b[0m\u001b[1;32m   2276\u001b[0m \u001b[0;34m\u001b[0m\u001b[0m\n\u001b[1;32m   2277\u001b[0m     \u001b[0;32mdef\u001b[0m \u001b[0m__setitem__\u001b[0m\u001b[0;34m(\u001b[0m\u001b[0mself\u001b[0m\u001b[0;34m,\u001b[0m \u001b[0mkey\u001b[0m\u001b[0;34m,\u001b[0m \u001b[0mvalue\u001b[0m\u001b[0;34m)\u001b[0m\u001b[0;34m:\u001b[0m\u001b[0;34m\u001b[0m\u001b[0;34m\u001b[0m\u001b[0m\n",
      "\u001b[0;32m/anaconda/envs/py38_default/lib/python3.8/site-packages/pandas/core/indexing.py\u001b[0m in \u001b[0;36m__getitem__\u001b[0;34m(self, key)\u001b[0m\n\u001b[1;32m   2220\u001b[0m \u001b[0;34m\u001b[0m\u001b[0m\n\u001b[1;32m   2221\u001b[0m         \u001b[0mkey\u001b[0m \u001b[0;34m=\u001b[0m \u001b[0mself\u001b[0m\u001b[0;34m.\u001b[0m\u001b[0m_convert_key\u001b[0m\u001b[0;34m(\u001b[0m\u001b[0mkey\u001b[0m\u001b[0;34m)\u001b[0m\u001b[0;34m\u001b[0m\u001b[0;34m\u001b[0m\u001b[0m\n\u001b[0;32m-> 2222\u001b[0;31m         \u001b[0;32mreturn\u001b[0m \u001b[0mself\u001b[0m\u001b[0;34m.\u001b[0m\u001b[0mobj\u001b[0m\u001b[0;34m.\u001b[0m\u001b[0m_get_value\u001b[0m\u001b[0;34m(\u001b[0m\u001b[0;34m*\u001b[0m\u001b[0mkey\u001b[0m\u001b[0;34m,\u001b[0m \u001b[0mtakeable\u001b[0m\u001b[0;34m=\u001b[0m\u001b[0mself\u001b[0m\u001b[0;34m.\u001b[0m\u001b[0m_takeable\u001b[0m\u001b[0;34m)\u001b[0m\u001b[0;34m\u001b[0m\u001b[0;34m\u001b[0m\u001b[0m\n\u001b[0m\u001b[1;32m   2223\u001b[0m \u001b[0;34m\u001b[0m\u001b[0m\n\u001b[1;32m   2224\u001b[0m     \u001b[0;32mdef\u001b[0m \u001b[0m__setitem__\u001b[0m\u001b[0;34m(\u001b[0m\u001b[0mself\u001b[0m\u001b[0;34m,\u001b[0m \u001b[0mkey\u001b[0m\u001b[0;34m,\u001b[0m \u001b[0mvalue\u001b[0m\u001b[0;34m)\u001b[0m\u001b[0;34m:\u001b[0m\u001b[0;34m\u001b[0m\u001b[0;34m\u001b[0m\u001b[0m\n",
      "\u001b[0;32m/anaconda/envs/py38_default/lib/python3.8/site-packages/pandas/core/frame.py\u001b[0m in \u001b[0;36m_get_value\u001b[0;34m(self, index, col, takeable)\u001b[0m\n\u001b[1;32m   3574\u001b[0m \u001b[0;34m\u001b[0m\u001b[0m\n\u001b[1;32m   3575\u001b[0m         \u001b[0;32mtry\u001b[0m\u001b[0;34m:\u001b[0m\u001b[0;34m\u001b[0m\u001b[0;34m\u001b[0m\u001b[0m\n\u001b[0;32m-> 3576\u001b[0;31m             \u001b[0mloc\u001b[0m \u001b[0;34m=\u001b[0m \u001b[0mengine\u001b[0m\u001b[0;34m.\u001b[0m\u001b[0mget_loc\u001b[0m\u001b[0;34m(\u001b[0m\u001b[0mindex\u001b[0m\u001b[0;34m)\u001b[0m\u001b[0;34m\u001b[0m\u001b[0;34m\u001b[0m\u001b[0m\n\u001b[0m\u001b[1;32m   3577\u001b[0m             \u001b[0;32mreturn\u001b[0m \u001b[0mseries\u001b[0m\u001b[0;34m.\u001b[0m\u001b[0m_values\u001b[0m\u001b[0;34m[\u001b[0m\u001b[0mloc\u001b[0m\u001b[0;34m]\u001b[0m\u001b[0;34m\u001b[0m\u001b[0;34m\u001b[0m\u001b[0m\n\u001b[1;32m   3578\u001b[0m         \u001b[0;32mexcept\u001b[0m \u001b[0mAttributeError\u001b[0m\u001b[0;34m:\u001b[0m\u001b[0;34m\u001b[0m\u001b[0;34m\u001b[0m\u001b[0m\n",
      "\u001b[0;32m/anaconda/envs/py38_default/lib/python3.8/site-packages/pandas/_libs/index.pyx\u001b[0m in \u001b[0;36mpandas._libs.index.IndexEngine.get_loc\u001b[0;34m()\u001b[0m\n",
      "\u001b[0;32m/anaconda/envs/py38_default/lib/python3.8/site-packages/pandas/_libs/index.pyx\u001b[0m in \u001b[0;36mpandas._libs.index.IndexEngine.get_loc\u001b[0;34m()\u001b[0m\n",
      "\u001b[0;32mpandas/_libs/hashtable_class_helper.pxi\u001b[0m in \u001b[0;36mpandas._libs.hashtable.PyObjectHashTable.get_item\u001b[0;34m()\u001b[0m\n",
      "\u001b[0;32mpandas/_libs/hashtable_class_helper.pxi\u001b[0m in \u001b[0;36mpandas._libs.hashtable.PyObjectHashTable.get_item\u001b[0;34m()\u001b[0m\n",
      "\u001b[0;31mKeyError\u001b[0m: 'minute'"
     ]
    }
   ],
   "source": [
    "# check a certain word\n",
    "w_count_df.at['minute', 0]"
   ]
  },
  {
   "cell_type": "code",
   "execution_count": 30,
   "metadata": {
    "Collapsed": "false"
   },
   "outputs": [
    {
     "data": {
      "text/plain": [
       "<AxesSubplot:>"
      ]
     },
     "execution_count": 30,
     "metadata": {},
     "output_type": "execute_result"
    },
    {
     "data": {
      "image/png": "[encoded data removed]",
      "text/plain": [
       "<Figure size 432x288 with 1 Axes>"
      ]
     },
     "metadata": {
      "needs_background": "light"
     },
     "output_type": "display_data"
    }
   ],
   "source": [
    "# fequency bar plot - it takes time!!\n",
    "w_count_df.plot.bar()"
   ]
  }
 ],
 "metadata": {
  "kernelspec": {
   "display_name": "Python 3",
   "language": "python",
   "name": "python3"
  },
  "language_info": {
   "codemirror_mode": {
    "name": "ipython",
    "version": 3
   },
   "file_extension": ".py",
   "mimetype": "text/x-python",
   "name": "python",
   "nbconvert_exporter": "python",
   "pygments_lexer": "ipython3",
   "version": "3.8.11"
  }
 },
 "nbformat": 4,
 "nbformat_minor": 4
}
